{
 "cells": [
  {
   "cell_type": "code",
   "execution_count": 50,
   "metadata": {},
   "outputs": [],
   "source": [
    "import numpy as np\n",
    "import pandas as pd\n",
    "import seaborn as sns # For plotting\n",
    "import matplotlib.pyplot as plt "
   ]
  },
  {
   "cell_type": "code",
   "execution_count": 8,
   "metadata": {},
   "outputs": [
    {
     "name": "stdout",
     "output_type": "stream",
     "text": [
      "   total_bill   tip     sex smoker  day    time  size\n",
      "0       16.99  1.01  Female     No  Sun  Dinner     2\n",
      "1       10.34  1.66    Male     No  Sun  Dinner     3\n",
      "2       21.01  3.50    Male     No  Sun  Dinner     3\n",
      "3       23.68  3.31    Male     No  Sun  Dinner     2\n",
      "4       24.59  3.61  Female     No  Sun  Dinner     4\n"
     ]
    },
    {
     "data": {
      "text/html": [
       "<div>\n",
       "<style scoped>\n",
       "    .dataframe tbody tr th:only-of-type {\n",
       "        vertical-align: middle;\n",
       "    }\n",
       "\n",
       "    .dataframe tbody tr th {\n",
       "        vertical-align: top;\n",
       "    }\n",
       "\n",
       "    .dataframe thead th {\n",
       "        text-align: right;\n",
       "    }\n",
       "</style>\n",
       "<table border=\"1\" class=\"dataframe\">\n",
       "  <thead>\n",
       "    <tr style=\"text-align: right;\">\n",
       "      <th></th>\n",
       "      <th>total_bill</th>\n",
       "      <th>tip</th>\n",
       "      <th>size</th>\n",
       "    </tr>\n",
       "  </thead>\n",
       "  <tbody>\n",
       "    <tr>\n",
       "      <td>count</td>\n",
       "      <td>244.000000</td>\n",
       "      <td>244.000000</td>\n",
       "      <td>244.000000</td>\n",
       "    </tr>\n",
       "    <tr>\n",
       "      <td>mean</td>\n",
       "      <td>19.785943</td>\n",
       "      <td>2.998279</td>\n",
       "      <td>2.569672</td>\n",
       "    </tr>\n",
       "    <tr>\n",
       "      <td>std</td>\n",
       "      <td>8.902412</td>\n",
       "      <td>1.383638</td>\n",
       "      <td>0.951100</td>\n",
       "    </tr>\n",
       "    <tr>\n",
       "      <td>min</td>\n",
       "      <td>3.070000</td>\n",
       "      <td>1.000000</td>\n",
       "      <td>1.000000</td>\n",
       "    </tr>\n",
       "    <tr>\n",
       "      <td>25%</td>\n",
       "      <td>13.347500</td>\n",
       "      <td>2.000000</td>\n",
       "      <td>2.000000</td>\n",
       "    </tr>\n",
       "    <tr>\n",
       "      <td>50%</td>\n",
       "      <td>17.795000</td>\n",
       "      <td>2.900000</td>\n",
       "      <td>2.000000</td>\n",
       "    </tr>\n",
       "    <tr>\n",
       "      <td>75%</td>\n",
       "      <td>24.127500</td>\n",
       "      <td>3.562500</td>\n",
       "      <td>3.000000</td>\n",
       "    </tr>\n",
       "    <tr>\n",
       "      <td>max</td>\n",
       "      <td>50.810000</td>\n",
       "      <td>10.000000</td>\n",
       "      <td>6.000000</td>\n",
       "    </tr>\n",
       "  </tbody>\n",
       "</table>\n",
       "</div>"
      ],
      "text/plain": [
       "       total_bill         tip        size\n",
       "count  244.000000  244.000000  244.000000\n",
       "mean    19.785943    2.998279    2.569672\n",
       "std      8.902412    1.383638    0.951100\n",
       "min      3.070000    1.000000    1.000000\n",
       "25%     13.347500    2.000000    2.000000\n",
       "50%     17.795000    2.900000    2.000000\n",
       "75%     24.127500    3.562500    3.000000\n",
       "max     50.810000   10.000000    6.000000"
      ]
     },
     "execution_count": 8,
     "metadata": {},
     "output_type": "execute_result"
    }
   ],
   "source": [
    "tips_data = sns.load_dataset(\"tips\")#default available in seaborn\n",
    "print(tips_data.head())\n",
    "tips_data.describe()"
   ]
  },
  {
   "cell_type": "code",
   "execution_count": 9,
   "metadata": {},
   "outputs": [
    {
     "data": {
      "text/plain": [
       "Text(0.5, 1.0, 'Histogram of Total Bill')"
      ]
     },
     "execution_count": 9,
     "metadata": {},
     "output_type": "execute_result"
    },
    {
     "data": {
      "image/png": "[encoded data removed]",
      "text/plain": [
       "<Figure size 432x288 with 1 Axes>"
      ]
     },
     "metadata": {
      "needs_background": "light"
     },
     "output_type": "display_data"
    }
   ],
   "source": [
    "sns.distplot(tips_data[\"total_bill\"], kde = True).set_title(\"Histogram of Total Bill\")#kde=true draws the density bell curve\n"
   ]
  },
  {
   "cell_type": "code",
   "execution_count": 30,
   "metadata": {},
   "outputs": [
    {
     "data": {
      "text/plain": [
       "Text(0.5, 1.0, 'Histogram of total tip')"
      ]
     },
     "execution_count": 30,
     "metadata": {},
     "output_type": "execute_result"
    },
    {
     "data": {
      "image/png": "[encoded data removed]",
      "text/plain": [
       "<Figure size 432x288 with 1 Axes>"
      ]
     },
     "metadata": {
      "needs_background": "light"
     },
     "output_type": "display_data"
    }
   ],
   "source": [
    "sns.distplot(tips_data[\"tip\"],kde=False).set_title(\"Histogram of total tip\")"
   ]
  },
  {
   "cell_type": "code",
   "execution_count": 19,
   "metadata": {},
   "outputs": [
    {
     "data": {
      "image/png": "[encoded data removed]",
      "text/plain": [
       "<Figure size 432x288 with 1 Axes>"
      ]
     },
     "metadata": {
      "needs_background": "light"
     },
     "output_type": "display_data"
    }
   ],
   "source": [
    "sns.distplot(tips_data[\"tip\"],kde=False)\n",
    "sns.distplot(tips_data[\"total_bill\"], kde = False).set_title(\"Histogram of Total Bill and tip\")\n",
    "plt.show()"
   ]
  },
  {
   "cell_type": "code",
   "execution_count": 14,
   "metadata": {},
   "outputs": [
    {
     "data": {
      "image/png": "[encoded data removed]",
      "text/plain": [
       "<Figure size 432x288 with 1 Axes>"
      ]
     },
     "metadata": {
      "needs_background": "light"
     },
     "output_type": "display_data"
    }
   ],
   "source": [
    "sns.boxplot(tips_data[\"total_bill\"]).set_title(\"Box plot of the Total Bill\")\n",
    "plt.show()"
   ]
  },
  {
   "cell_type": "code",
   "execution_count": 18,
   "metadata": {},
   "outputs": [
    {
     "data": {
      "image/png": "[encoded data removed]",
      "text/plain": [
       "<Figure size 432x288 with 1 Axes>"
      ]
     },
     "metadata": {
      "needs_background": "light"
     },
     "output_type": "display_data"
    }
   ],
   "source": [
    "sns.boxplot(tips_data[\"tip\"]).set_title(\"Box plot of Total Bill\")\n",
    "plt.show()"
   ]
  },
  {
   "cell_type": "code",
   "execution_count": 20,
   "metadata": {},
   "outputs": [
    {
     "data": {
      "image/png": "[encoded data removed]",
      "text/plain": [
       "<Figure size 432x288 with 1 Axes>"
      ]
     },
     "metadata": {
      "needs_background": "light"
     },
     "output_type": "display_data"
    }
   ],
   "source": [
    "sns.boxplot(tips_data[\"total_bill\"])\n",
    "sns.boxplot(tips_data[\"tip\"]).set_title(\"Box plot of Total Bill and tip\")\n",
    "plt.show()"
   ]
  },
  {
   "cell_type": "code",
   "execution_count": 22,
   "metadata": {},
   "outputs": [
    {
     "data": {
      "image/png": "[encoded data removed]",
      "text/plain": [
       "<Figure size 432x288 with 1 Axes>"
      ]
     },
     "metadata": {
      "needs_background": "light"
     },
     "output_type": "display_data"
    }
   ],
   "source": [
    "sns.boxplot(tips_data[\"tip\"],tips_data[\"smoker\"])#plotting based on whether they're smokers or not\n",
    "plt.show()"
   ]
  },
  {
   "cell_type": "code",
   "execution_count": 23,
   "metadata": {},
   "outputs": [
    {
     "data": {
      "image/png": "[encoded data removed]",
      "text/plain": [
       "<Figure size 432x288 with 1 Axes>"
      ]
     },
     "metadata": {
      "needs_background": "light"
     },
     "output_type": "display_data"
    },
    {
     "data": {
      "image/png": "[encoded data removed]",
      "text/plain": [
       "<Figure size 216x432 with 2 Axes>"
      ]
     },
     "metadata": {
      "needs_background": "light"
     },
     "output_type": "display_data"
    }
   ],
   "source": [
    "sns.boxplot(x = tips_data[\"tip\"], y = tips_data[\"time\"])\n",
    "\n",
    "g = sns.FacetGrid(tips_data, row = \"time\")#this organizes the data based on time\n",
    "g = g.map(plt.hist, \"tip\")#plot histogram of the previous data\n",
    "plt.show()"
   ]
  },
  {
   "cell_type": "code",
   "execution_count": 24,
   "metadata": {},
   "outputs": [
    {
     "data": {
      "image/png": "[encoded data removed]",
      "text/plain": [
       "<Figure size 432x288 with 1 Axes>"
      ]
     },
     "metadata": {
      "needs_background": "light"
     },
     "output_type": "display_data"
    },
    {
     "data": {
      "image/png": "[encoded data removed]",
      "text/plain": [
       "<Figure size 216x864 with 4 Axes>"
      ]
     },
     "metadata": {
      "needs_background": "light"
     },
     "output_type": "display_data"
    }
   ],
   "source": [
    "sns.boxplot(x = tips_data[\"tip\"], y = tips_data[\"day\"])\n",
    "\n",
    "g = sns.FacetGrid(tips_data, row = \"day\")\n",
    "g = g.map(plt.hist, \"tip\")\n",
    "plt.show()"
   ]
  },
  {
   "cell_type": "code",
   "execution_count": 25,
   "metadata": {},
   "outputs": [
    {
     "data": {
      "text/html": [
       "<div>\n",
       "<style scoped>\n",
       "    .dataframe tbody tr th:only-of-type {\n",
       "        vertical-align: middle;\n",
       "    }\n",
       "\n",
       "    .dataframe tbody tr th {\n",
       "        vertical-align: top;\n",
       "    }\n",
       "\n",
       "    .dataframe thead th {\n",
       "        text-align: right;\n",
       "    }\n",
       "</style>\n",
       "<table border=\"1\" class=\"dataframe\">\n",
       "  <thead>\n",
       "    <tr style=\"text-align: right;\">\n",
       "      <th></th>\n",
       "      <th>Year</th>\n",
       "      <th>Western Champion</th>\n",
       "      <th>Eastern Champion</th>\n",
       "      <th>Result</th>\n",
       "      <th>NBA Champion</th>\n",
       "      <th>NBA Vice-Champion</th>\n",
       "      <th>Final Sweep ?</th>\n",
       "      <th>MVP Name</th>\n",
       "      <th>MVP Height (m)</th>\n",
       "      <th>MVP Height (ft)</th>\n",
       "      <th>MVP Position</th>\n",
       "      <th>MVP Team</th>\n",
       "      <th>MVP Nationality</th>\n",
       "      <th>MVP status</th>\n",
       "    </tr>\n",
       "  </thead>\n",
       "  <tbody>\n",
       "    <tr>\n",
       "      <td>0</td>\n",
       "      <td>1950</td>\n",
       "      <td>Minneapolis Lakers</td>\n",
       "      <td>Syracuse Nationals</td>\n",
       "      <td>4–2</td>\n",
       "      <td>Minneapolis Lakers</td>\n",
       "      <td>Syracuse Nationals</td>\n",
       "      <td>False</td>\n",
       "      <td>NaN</td>\n",
       "      <td>NaN</td>\n",
       "      <td>NaN</td>\n",
       "      <td>NaN</td>\n",
       "      <td>NaN</td>\n",
       "      <td>NaN</td>\n",
       "      <td>NaN</td>\n",
       "    </tr>\n",
       "    <tr>\n",
       "      <td>1</td>\n",
       "      <td>1951</td>\n",
       "      <td>Rochester Royals</td>\n",
       "      <td>New York Knicks</td>\n",
       "      <td>4–3</td>\n",
       "      <td>Rochester Royals</td>\n",
       "      <td>New York Knicks</td>\n",
       "      <td>False</td>\n",
       "      <td>NaN</td>\n",
       "      <td>NaN</td>\n",
       "      <td>NaN</td>\n",
       "      <td>NaN</td>\n",
       "      <td>NaN</td>\n",
       "      <td>NaN</td>\n",
       "      <td>NaN</td>\n",
       "    </tr>\n",
       "    <tr>\n",
       "      <td>2</td>\n",
       "      <td>1952</td>\n",
       "      <td>Minneapolis Lakers</td>\n",
       "      <td>New York Knicks</td>\n",
       "      <td>4–3</td>\n",
       "      <td>Minneapolis Lakers</td>\n",
       "      <td>New York Knicks</td>\n",
       "      <td>False</td>\n",
       "      <td>NaN</td>\n",
       "      <td>NaN</td>\n",
       "      <td>NaN</td>\n",
       "      <td>NaN</td>\n",
       "      <td>NaN</td>\n",
       "      <td>NaN</td>\n",
       "      <td>NaN</td>\n",
       "    </tr>\n",
       "    <tr>\n",
       "      <td>3</td>\n",
       "      <td>1953</td>\n",
       "      <td>Minneapolis Lakers</td>\n",
       "      <td>New York Knicks</td>\n",
       "      <td>4–1</td>\n",
       "      <td>Minneapolis Lakers</td>\n",
       "      <td>New York Knicks</td>\n",
       "      <td>False</td>\n",
       "      <td>NaN</td>\n",
       "      <td>NaN</td>\n",
       "      <td>NaN</td>\n",
       "      <td>NaN</td>\n",
       "      <td>NaN</td>\n",
       "      <td>NaN</td>\n",
       "      <td>NaN</td>\n",
       "    </tr>\n",
       "    <tr>\n",
       "      <td>4</td>\n",
       "      <td>1954</td>\n",
       "      <td>Minneapolis Lakers</td>\n",
       "      <td>Syracuse Nationals</td>\n",
       "      <td>4–3</td>\n",
       "      <td>Minneapolis Lakers</td>\n",
       "      <td>Syracuse Nationals</td>\n",
       "      <td>False</td>\n",
       "      <td>NaN</td>\n",
       "      <td>NaN</td>\n",
       "      <td>NaN</td>\n",
       "      <td>NaN</td>\n",
       "      <td>NaN</td>\n",
       "      <td>NaN</td>\n",
       "      <td>NaN</td>\n",
       "    </tr>\n",
       "  </tbody>\n",
       "</table>\n",
       "</div>"
      ],
      "text/plain": [
       "   Year    Western Champion    Eastern Champion Result        NBA Champion  \\\n",
       "0  1950  Minneapolis Lakers  Syracuse Nationals    4–2  Minneapolis Lakers   \n",
       "1  1951    Rochester Royals     New York Knicks    4–3    Rochester Royals   \n",
       "2  1952  Minneapolis Lakers     New York Knicks    4–3  Minneapolis Lakers   \n",
       "3  1953  Minneapolis Lakers     New York Knicks    4–1  Minneapolis Lakers   \n",
       "4  1954  Minneapolis Lakers  Syracuse Nationals    4–3  Minneapolis Lakers   \n",
       "\n",
       "    NBA Vice-Champion  Final Sweep ? MVP Name  MVP Height (m)  \\\n",
       "0  Syracuse Nationals          False      NaN             NaN   \n",
       "1     New York Knicks          False      NaN             NaN   \n",
       "2     New York Knicks          False      NaN             NaN   \n",
       "3     New York Knicks          False      NaN             NaN   \n",
       "4  Syracuse Nationals          False      NaN             NaN   \n",
       "\n",
       "   MVP Height (ft) MVP Position MVP Team MVP Nationality MVP status  \n",
       "0              NaN          NaN      NaN             NaN        NaN  \n",
       "1              NaN          NaN      NaN             NaN        NaN  \n",
       "2              NaN          NaN      NaN             NaN        NaN  \n",
       "3              NaN          NaN      NaN             NaN        NaN  \n",
       "4              NaN          NaN      NaN             NaN        NaN  "
      ]
     },
     "execution_count": 25,
     "metadata": {},
     "output_type": "execute_result"
    }
   ],
   "source": [
    "db=pd.read_excel('https://query.data.world/s/cqgsjhuv7c4uk7zjyag3d5kr7rmb2p')\n",
    "db.head()"
   ]
  },
  {
   "cell_type": "code",
   "execution_count": 42,
   "metadata": {},
   "outputs": [
    {
     "data": {
      "image/png": "[encoded data removed]",
      "text/plain": [
       "<Figure size 432x288 with 1 Axes>"
      ]
     },
     "metadata": {
      "needs_background": "light"
     },
     "output_type": "display_data"
    },
    {
     "data": {
      "text/html": [
       "<div>\n",
       "<style scoped>\n",
       "    .dataframe tbody tr th:only-of-type {\n",
       "        vertical-align: middle;\n",
       "    }\n",
       "\n",
       "    .dataframe tbody tr th {\n",
       "        vertical-align: top;\n",
       "    }\n",
       "\n",
       "    .dataframe thead th {\n",
       "        text-align: right;\n",
       "    }\n",
       "</style>\n",
       "<table border=\"1\" class=\"dataframe\">\n",
       "  <thead>\n",
       "    <tr style=\"text-align: right;\">\n",
       "      <th></th>\n",
       "      <th>Year</th>\n",
       "      <th>MVP Height (m)</th>\n",
       "      <th>MVP Height (ft)</th>\n",
       "    </tr>\n",
       "  </thead>\n",
       "  <tbody>\n",
       "    <tr>\n",
       "      <td>count</td>\n",
       "      <td>69.000000</td>\n",
       "      <td>63.000000</td>\n",
       "      <td>63.000000</td>\n",
       "    </tr>\n",
       "    <tr>\n",
       "      <td>mean</td>\n",
       "      <td>1984.000000</td>\n",
       "      <td>2.052063</td>\n",
       "      <td>6.733596</td>\n",
       "    </tr>\n",
       "    <tr>\n",
       "      <td>std</td>\n",
       "      <td>20.062403</td>\n",
       "      <td>0.087144</td>\n",
       "      <td>0.284852</td>\n",
       "    </tr>\n",
       "    <tr>\n",
       "      <td>min</td>\n",
       "      <td>1950.000000</td>\n",
       "      <td>1.830000</td>\n",
       "      <td>6.003937</td>\n",
       "    </tr>\n",
       "    <tr>\n",
       "      <td>25%</td>\n",
       "      <td>1967.000000</td>\n",
       "      <td>1.980000</td>\n",
       "      <td>6.498032</td>\n",
       "    </tr>\n",
       "    <tr>\n",
       "      <td>50%</td>\n",
       "      <td>1984.000000</td>\n",
       "      <td>2.060000</td>\n",
       "      <td>6.758530</td>\n",
       "    </tr>\n",
       "    <tr>\n",
       "      <td>75%</td>\n",
       "      <td>2001.000000</td>\n",
       "      <td>2.110000</td>\n",
       "      <td>6.922572</td>\n",
       "    </tr>\n",
       "    <tr>\n",
       "      <td>max</td>\n",
       "      <td>2018.000000</td>\n",
       "      <td>2.180000</td>\n",
       "      <td>7.152231</td>\n",
       "    </tr>\n",
       "  </tbody>\n",
       "</table>\n",
       "</div>"
      ],
      "text/plain": [
       "              Year  MVP Height (m)  MVP Height (ft)\n",
       "count    69.000000       63.000000        63.000000\n",
       "mean   1984.000000        2.052063         6.733596\n",
       "std      20.062403        0.087144         0.284852\n",
       "min    1950.000000        1.830000         6.003937\n",
       "25%    1967.000000        1.980000         6.498032\n",
       "50%    1984.000000        2.060000         6.758530\n",
       "75%    2001.000000        2.110000         6.922572\n",
       "max    2018.000000        2.180000         7.152231"
      ]
     },
     "execution_count": 42,
     "metadata": {},
     "output_type": "execute_result"
    }
   ],
   "source": [
    "sns.distplot(db[\"MVP Height (ft)\"].dropna(),kde=False)\n",
    "\n",
    "plt.ylim(0,30)\n",
    "plt.show()\n",
    "db.describe()"
   ]
  },
  {
   "cell_type": "code",
   "execution_count": 49,
   "metadata": {},
   "outputs": [
    {
     "data": {
      "image/png": "[encoded data removed]",
      "text/plain": [
       "<Figure size 432x288 with 1 Axes>"
      ]
     },
     "metadata": {
      "needs_background": "light"
     },
     "output_type": "display_data"
    },
    {
     "data": {
      "image/png": "[encoded data removed]",
      "text/plain": [
       "<Figure size 216x864 with 4 Axes>"
      ]
     },
     "metadata": {
      "needs_background": "light"
     },
     "output_type": "display_data"
    }
   ],
   "source": [
    "sns.boxplot(db[\"MVP Height (ft)\"].dropna(),db[\"MVP Nationality\"].dropna())\n",
    "g = sns.FacetGrid(db, row = \"MVP Nationality\")\n",
    "g = g.map(plt.hist, \"MVP Height (ft)\")\n",
    "\n",
    "plt.show()"
   ]
  },
  {
   "cell_type": "code",
   "execution_count": 52,
   "metadata": {},
   "outputs": [
    {
     "data": {
      "text/html": [
       "<div>\n",
       "<style scoped>\n",
       "    .dataframe tbody tr th:only-of-type {\n",
       "        vertical-align: middle;\n",
       "    }\n",
       "\n",
       "    .dataframe tbody tr th {\n",
       "        vertical-align: top;\n",
       "    }\n",
       "\n",
       "    .dataframe thead th {\n",
       "        text-align: right;\n",
       "    }\n",
       "</style>\n",
       "<table border=\"1\" class=\"dataframe\">\n",
       "  <thead>\n",
       "    <tr style=\"text-align: right;\">\n",
       "      <th></th>\n",
       "      <th>Unnamed: 0</th>\n",
       "      <th>active_from</th>\n",
       "      <th>active_to</th>\n",
       "      <th>birth_date</th>\n",
       "      <th>college</th>\n",
       "      <th>height</th>\n",
       "      <th>name</th>\n",
       "      <th>position</th>\n",
       "      <th>url</th>\n",
       "      <th>weight</th>\n",
       "      <th>...</th>\n",
       "      <th>NCAA__3ptpg</th>\n",
       "      <th>NCAA_efgpct</th>\n",
       "      <th>NCAA_fgapg</th>\n",
       "      <th>NCAA_fgpct</th>\n",
       "      <th>NCAA_fgpg</th>\n",
       "      <th>NCAA_ft</th>\n",
       "      <th>NCAA_ftapg</th>\n",
       "      <th>NCAA_ftpg</th>\n",
       "      <th>NCAA_games</th>\n",
       "      <th>NCAA_ppg</th>\n",
       "    </tr>\n",
       "  </thead>\n",
       "  <tbody>\n",
       "    <tr>\n",
       "      <td>0</td>\n",
       "      <td>0</td>\n",
       "      <td>1991</td>\n",
       "      <td>1995</td>\n",
       "      <td>June 24, 1968</td>\n",
       "      <td>Duke University</td>\n",
       "      <td>6-10</td>\n",
       "      <td>Alaa Abdelnaby</td>\n",
       "      <td>F-C</td>\n",
       "      <td>/players/a/abdelal01.html</td>\n",
       "      <td>240.0</td>\n",
       "      <td>...</td>\n",
       "      <td>0.0</td>\n",
       "      <td>NaN</td>\n",
       "      <td>5.6</td>\n",
       "      <td>0.599</td>\n",
       "      <td>3.3</td>\n",
       "      <td>0.728</td>\n",
       "      <td>2.5</td>\n",
       "      <td>1.8</td>\n",
       "      <td>134.0</td>\n",
       "      <td>8.5</td>\n",
       "    </tr>\n",
       "    <tr>\n",
       "      <td>1</td>\n",
       "      <td>1</td>\n",
       "      <td>1969</td>\n",
       "      <td>1978</td>\n",
       "      <td>April 7, 1946</td>\n",
       "      <td>Iowa State University</td>\n",
       "      <td>6-9</td>\n",
       "      <td>Zaid Abdul-Aziz</td>\n",
       "      <td>C-F</td>\n",
       "      <td>/players/a/abdulza01.html</td>\n",
       "      <td>235.0</td>\n",
       "      <td>...</td>\n",
       "      <td>NaN</td>\n",
       "      <td>NaN</td>\n",
       "      <td>NaN</td>\n",
       "      <td>NaN</td>\n",
       "      <td>NaN</td>\n",
       "      <td>NaN</td>\n",
       "      <td>NaN</td>\n",
       "      <td>NaN</td>\n",
       "      <td>NaN</td>\n",
       "      <td>NaN</td>\n",
       "    </tr>\n",
       "    <tr>\n",
       "      <td>2</td>\n",
       "      <td>2</td>\n",
       "      <td>1970</td>\n",
       "      <td>1989</td>\n",
       "      <td>April 16, 1947</td>\n",
       "      <td>University of California, Los Angeles</td>\n",
       "      <td>7-2</td>\n",
       "      <td>Kareem Abdul-Jabbar</td>\n",
       "      <td>C</td>\n",
       "      <td>/players/a/abdulka01.html</td>\n",
       "      <td>225.0</td>\n",
       "      <td>...</td>\n",
       "      <td>NaN</td>\n",
       "      <td>NaN</td>\n",
       "      <td>16.8</td>\n",
       "      <td>0.639</td>\n",
       "      <td>10.7</td>\n",
       "      <td>0.628</td>\n",
       "      <td>7.9</td>\n",
       "      <td>5.0</td>\n",
       "      <td>88.0</td>\n",
       "      <td>26.4</td>\n",
       "    </tr>\n",
       "    <tr>\n",
       "      <td>3</td>\n",
       "      <td>3</td>\n",
       "      <td>1991</td>\n",
       "      <td>2001</td>\n",
       "      <td>March 9, 1969</td>\n",
       "      <td>Louisiana State University</td>\n",
       "      <td>6-1</td>\n",
       "      <td>Mahmoud Abdul-Rauf</td>\n",
       "      <td>G</td>\n",
       "      <td>/players/a/abdulma02.html</td>\n",
       "      <td>162.0</td>\n",
       "      <td>...</td>\n",
       "      <td>2.7</td>\n",
       "      <td>NaN</td>\n",
       "      <td>21.9</td>\n",
       "      <td>0.474</td>\n",
       "      <td>10.4</td>\n",
       "      <td>0.863</td>\n",
       "      <td>6.4</td>\n",
       "      <td>5.5</td>\n",
       "      <td>64.0</td>\n",
       "      <td>29.0</td>\n",
       "    </tr>\n",
       "    <tr>\n",
       "      <td>4</td>\n",
       "      <td>4</td>\n",
       "      <td>1998</td>\n",
       "      <td>2003</td>\n",
       "      <td>November 3, 1974</td>\n",
       "      <td>University of Michigan, San Jose State University</td>\n",
       "      <td>6-6</td>\n",
       "      <td>Tariq Abdul-Wahad</td>\n",
       "      <td>F</td>\n",
       "      <td>/players/a/abdulta01.html</td>\n",
       "      <td>223.0</td>\n",
       "      <td>...</td>\n",
       "      <td>NaN</td>\n",
       "      <td>NaN</td>\n",
       "      <td>NaN</td>\n",
       "      <td>NaN</td>\n",
       "      <td>NaN</td>\n",
       "      <td>NaN</td>\n",
       "      <td>NaN</td>\n",
       "      <td>NaN</td>\n",
       "      <td>NaN</td>\n",
       "      <td>NaN</td>\n",
       "    </tr>\n",
       "  </tbody>\n",
       "</table>\n",
       "<p>5 rows × 34 columns</p>\n",
       "</div>"
      ],
      "text/plain": [
       "   Unnamed: 0  active_from  active_to        birth_date  \\\n",
       "0           0         1991       1995     June 24, 1968   \n",
       "1           1         1969       1978     April 7, 1946   \n",
       "2           2         1970       1989    April 16, 1947   \n",
       "3           3         1991       2001     March 9, 1969   \n",
       "4           4         1998       2003  November 3, 1974   \n",
       "\n",
       "                                             college height  \\\n",
       "0                                    Duke University   6-10   \n",
       "1                              Iowa State University    6-9   \n",
       "2              University of California, Los Angeles    7-2   \n",
       "3                         Louisiana State University    6-1   \n",
       "4  University of Michigan, San Jose State University    6-6   \n",
       "\n",
       "                  name position                        url  weight  ...  \\\n",
       "0       Alaa Abdelnaby      F-C  /players/a/abdelal01.html   240.0  ...   \n",
       "1      Zaid Abdul-Aziz      C-F  /players/a/abdulza01.html   235.0  ...   \n",
       "2  Kareem Abdul-Jabbar        C  /players/a/abdulka01.html   225.0  ...   \n",
       "3   Mahmoud Abdul-Rauf        G  /players/a/abdulma02.html   162.0  ...   \n",
       "4    Tariq Abdul-Wahad        F  /players/a/abdulta01.html   223.0  ...   \n",
       "\n",
       "   NCAA__3ptpg  NCAA_efgpct  NCAA_fgapg  NCAA_fgpct  NCAA_fgpg  NCAA_ft  \\\n",
       "0          0.0          NaN         5.6       0.599        3.3    0.728   \n",
       "1          NaN          NaN         NaN         NaN        NaN      NaN   \n",
       "2          NaN          NaN        16.8       0.639       10.7    0.628   \n",
       "3          2.7          NaN        21.9       0.474       10.4    0.863   \n",
       "4          NaN          NaN         NaN         NaN        NaN      NaN   \n",
       "\n",
       "   NCAA_ftapg  NCAA_ftpg  NCAA_games  NCAA_ppg  \n",
       "0         2.5        1.8       134.0       8.5  \n",
       "1         NaN        NaN         NaN       NaN  \n",
       "2         7.9        5.0        88.0      26.4  \n",
       "3         6.4        5.5        64.0      29.0  \n",
       "4         NaN        NaN         NaN       NaN  \n",
       "\n",
       "[5 rows x 34 columns]"
      ]
     },
     "execution_count": 52,
     "metadata": {},
     "output_type": "execute_result"
    }
   ],
   "source": [
    "df = pd.read_csv('https://query.data.world/s/yagys7l2nzjdfcw7geogqntxan2gtw')\n",
    "df.head()\n"
   ]
  },
  {
   "cell_type": "code",
   "execution_count": 59,
   "metadata": {},
   "outputs": [
    {
     "data": {
      "text/html": [
       "<div>\n",
       "<style scoped>\n",
       "    .dataframe tbody tr th:only-of-type {\n",
       "        vertical-align: middle;\n",
       "    }\n",
       "\n",
       "    .dataframe tbody tr th {\n",
       "        vertical-align: top;\n",
       "    }\n",
       "\n",
       "    .dataframe thead th {\n",
       "        text-align: right;\n",
       "    }\n",
       "</style>\n",
       "<table border=\"1\" class=\"dataframe\">\n",
       "  <thead>\n",
       "    <tr style=\"text-align: right;\">\n",
       "      <th></th>\n",
       "      <th>name</th>\n",
       "      <th>position</th>\n",
       "      <th>height</th>\n",
       "    </tr>\n",
       "  </thead>\n",
       "  <tbody>\n",
       "    <tr>\n",
       "      <td>3500</td>\n",
       "      <td>Quinton Ross</td>\n",
       "      <td>G</td>\n",
       "      <td>6-6</td>\n",
       "    </tr>\n",
       "    <tr>\n",
       "      <td>3501</td>\n",
       "      <td>Terrence Ross</td>\n",
       "      <td>F-G</td>\n",
       "      <td>6-7</td>\n",
       "    </tr>\n",
       "    <tr>\n",
       "      <td>3502</td>\n",
       "      <td>Doug Roth</td>\n",
       "      <td>C</td>\n",
       "      <td>6-11</td>\n",
       "    </tr>\n",
       "    <tr>\n",
       "      <td>3503</td>\n",
       "      <td>Scott Roth</td>\n",
       "      <td>F</td>\n",
       "      <td>6-8</td>\n",
       "    </tr>\n",
       "    <tr>\n",
       "      <td>3504</td>\n",
       "      <td>Irv Rothenberg</td>\n",
       "      <td>C</td>\n",
       "      <td>6-7</td>\n",
       "    </tr>\n",
       "    <tr>\n",
       "      <td>3505</td>\n",
       "      <td>Mickey Rottner</td>\n",
       "      <td>G</td>\n",
       "      <td>5-10</td>\n",
       "    </tr>\n",
       "    <tr>\n",
       "      <td>3506</td>\n",
       "      <td>Dan Roundfield</td>\n",
       "      <td>F-C</td>\n",
       "      <td>6-8</td>\n",
       "    </tr>\n",
       "    <tr>\n",
       "      <td>3507</td>\n",
       "      <td>Giff Roux</td>\n",
       "      <td>F-C</td>\n",
       "      <td>6-5</td>\n",
       "    </tr>\n",
       "    <tr>\n",
       "      <td>3508</td>\n",
       "      <td>Ron Rowan</td>\n",
       "      <td>G</td>\n",
       "      <td>6-5</td>\n",
       "    </tr>\n",
       "    <tr>\n",
       "      <td>3509</td>\n",
       "      <td>Curtis Rowe</td>\n",
       "      <td>F</td>\n",
       "      <td>6-7</td>\n",
       "    </tr>\n",
       "  </tbody>\n",
       "</table>\n",
       "</div>"
      ],
      "text/plain": [
       "                name position height\n",
       "3500    Quinton Ross        G    6-6\n",
       "3501   Terrence Ross      F-G    6-7\n",
       "3502       Doug Roth        C   6-11\n",
       "3503      Scott Roth        F    6-8\n",
       "3504  Irv Rothenberg        C    6-7\n",
       "3505  Mickey Rottner        G   5-10\n",
       "3506  Dan Roundfield      F-C    6-8\n",
       "3507       Giff Roux      F-C    6-5\n",
       "3508       Ron Rowan        G    6-5\n",
       "3509     Curtis Rowe        F    6-7"
      ]
     },
     "execution_count": 59,
     "metadata": {},
     "output_type": "execute_result"
    }
   ],
   "source": [
    "df.loc[3500:3510,[\"name\",\"position\",\"height\"]]\n",
    "df.iloc[3500:3510,[6,7,5]]"
   ]
  }
 ],
 "metadata": {
  "kernelspec": {
   "display_name": "Python 3",
   "language": "python",
   "name": "python3"
  },
  "language_info": {
   "codemirror_mode": {
    "name": "ipython",
    "version": 3
   },
   "file_extension": ".py",
   "mimetype": "text/x-python",
   "name": "python",
   "nbconvert_exporter": "python",
   "pygments_lexer": "ipython3",
   "version": "3.7.4"
  }
 },
 "nbformat": 4,
 "nbformat_minor": 2
}
